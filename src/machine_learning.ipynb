{
 "cells": [
  {
   "cell_type": "markdown",
   "metadata": {},
   "source": [
    "# machine_learning.ipynb\n",
    "\n",
    "## 1. Introducción\n",
    "\n",
    "En este Notebook, vamos a:\n",
    "1. Cargar los distintos datasets de entrenamiento y test (con/sin outliers, normalizados o escalados).\n",
    "2. Entrenar un modelo de **Regresión Logística** en cada uno de ellos y medir su desempeño.\n",
    "3. Escoger el mejor dataset con base en las métricas.\n",
    "4. Realizar una **búsqueda de hiperparámetros** (*GridSearchCV*) para optimizar el modelo ganador.\n",
    "5. Guardar o mostrar los resultados finales.\n",
    "\n",
    "Este enfoque modular permite:\n",
    "- Comparar rápidamente múltiples versiones de preprocesamiento (outliers, escalados, etc.).\n",
    "- Reutilizar el mismo pipeline en proyectos futuros con datasets distintos.\n"
   ]
  },
  {
   "cell_type": "code",
   "execution_count": null,
   "metadata": {},
   "outputs": [],
   "source": [
    "\n",
    "# 1. Importación de librerías\n",
    "\n",
    "import os\n",
    "import pandas as pd\n",
    "import numpy as np\n",
    "\n",
    "# Para modelado\n",
    "from sklearn.linear_model import LogisticRegression\n",
    "from sklearn.metrics import accuracy_score\n",
    "from sklearn.model_selection import GridSearchCV\n",
    "\n",
    "# Ignorar warnings (opcional)\n",
    "import warnings\n",
    "warnings.filterwarnings(\"ignore\")\n",
    "\n"
   ]
  },
  {
   "cell_type": "markdown",
   "metadata": {},
   "source": [
    "## 2. Carga de datos\n",
    "\n",
    "En este apartado, definimos las rutas de los archivos `.xlsx` que contienen los distintos **X_train** y **X_test** (con outliers, sin outliers, normalizados, escalados, etc.), así como los vectores `y_train` y `y_test`. \n"
   ]
  },
  {
   "cell_type": "code",
   "execution_count": null,
   "metadata": {},
   "outputs": [
    {
     "name": "stdout",
     "output_type": "stream",
     "text": [
      "Cantidad de datasets de TRAIN cargados: 3\n",
      "Cantidad de datasets de TEST cargados: 3\n"
     ]
    }
   ],
   "source": [
    "\n",
    "# 2. Carga de datos\n",
    "\n",
    "# Ruta base a la carpeta processed\n",
    "BASE_PATH = \"/workspaces/ejercicio_regresion_logistica/data/processed\"\n",
    "\n",
    "# Archivos disponibles según tu carpeta\n",
    "TRAIN_PATHS = [\n",
    "    \"X_train_con_outliers.xlsx\",\n",
    "    \"X_train_sin_outliers.xlsx\",\n",
    "    \"X_train_con_outliers_normalizado.xlsx\",\n",
    "    \"X_train_sin_outliers_normnormalizado.xlsx\",\n",
    "    \"X_train_con_outliers_escalado.xlsx\",\n",
    "    \"X_train_sin_outliers_escalado.xlsx\"\n",
    "]\n",
    "\n",
    "TEST_PATHS = [\n",
    "    \"X_test_con_outliers.xlsx\",\n",
    "    \"X_test_sin_outliers.xlsx\",\n",
    "    \"X_test_con_outliers_normalizado.xlsx\",\n",
    "    \"X_test_sin_outliers_normalizado.xlsx\",\n",
    "    \"X_test_con_outliers_escalado.xlsx\",\n",
    "    \"X_test_sin_outliers_escalado.xlsx\"\n",
    "]\n",
    "\n",
    "# Carga de datasets\n",
    "TRAIN_DATASETS = [pd.read_excel(os.path.join(BASE_PATH, path)) for path in TRAIN_PATHS]\n",
    "TEST_DATASETS = [pd.read_excel(os.path.join(BASE_PATH, path)) for path in TEST_PATHS]\n",
    "\n",
    "# Carga de las variables objetivo\n",
    "y_train = pd.read_excel(os.path.join(BASE_PATH, \"y_train_sel.xlsx\")).iloc[:, 0]\n",
    "y_test = pd.read_excel(os.path.join(BASE_PATH, \"y_test_sel.xlsx\")).iloc[:, 0]\n",
    "\n",
    "# Verificación\n",
    "print(\"Cantidad de datasets de TRAIN cargados:\", len(TRAIN_DATASETS))\n",
    "print(\"Cantidad de datasets de TEST cargados:\", len(TEST_DATASETS))\n"
   ]
  },
  {
   "cell_type": "code",
   "execution_count": null,
   "metadata": {},
   "outputs": [
    {
     "name": "stdout",
     "output_type": "stream",
     "text": [
      "0\n",
      "1\n",
      "2\n"
     ]
    },
    {
     "data": {
      "text/plain": [
       "[{'train': 0.9083459787556905, 'test': 0.9104151493080845},\n",
       " {'train': 0.908103186646434, 'test': 0.9113862588006798},\n",
       " {'train': 0.9004552352048558, 'test': 0.9047098810390871}]"
      ]
     },
     "execution_count": 12,
     "metadata": {},
     "output_type": "execute_result"
    }
   ],
   "source": [
    "\n",
    "# 3. Entrenamiento de modelos de regresión logística + Evaluación\n",
    "\n",
    "results = []  # Lista para almacenar métricas\n",
    "\n",
    "# Entrenar y evaluar modelo por cada dataset\n",
    "for index, dataset in enumerate(TRAIN_DATASETS):\n",
    "    print(index)\n",
    "    \n",
    "    model = LogisticRegression(random_state=42, max_iter=1000)  # max_iter por si tarda en converger\n",
    "    model.fit(dataset, y_train)\n",
    "    \n",
    "    # Predicciones\n",
    "    y_pred_train = model.predict(dataset)\n",
    "    y_pred_test = model.predict(TEST_DATASETS[index])\n",
    "    \n",
    "    # Métricas\n",
    "    # train_acc = accuracy_score(y_train, y_pred_train)\n",
    "    # test_acc = accuracy_score(y_test, y_pred_test)\n",
    "    \n",
    "    \n",
    "    results.append(\n",
    "        {\n",
    "            # \"dataset\": TRAIN_PATHS[index],\n",
    "            \"train\": accuracy_score(y_train, y_pred_train),\n",
    "            \"test\": accuracy_score(y_test, y_pred_test)\n",
    "        }\n",
    "    )\n",
    "\n",
    "results\n",
    "\n",
    "# print(\"\\nResultados de accuracy por dataset:\")\n",
    "# for res in results:\n",
    "#    print(res)\n"
   ]
  },
  {
   "cell_type": "code",
   "execution_count": null,
   "metadata": {},
   "outputs": [
    {
     "name": "stdout",
     "output_type": "stream",
     "text": [
      "\n",
      "Ejecutando GridSearchCV...\n",
      "\n",
      "Mejor modelo encontrado por GridSearch:\n",
      "LogisticRegression(C=1, max_iter=1000, random_state=42, solver='saga', tol=0.1)\n"
     ]
    }
   ],
   "source": [
    "\n",
    "# 4. Optimización con GridSearchCV del mejor modelo\n",
    "\n",
    "# Suponiendo que el dataset seleccionado fue el tercero (por ejemplo, con variables seleccionadas)\n",
    "best_dataset_index = 2  # Esto lo puedes ajustar según los resultados del paso anterior\n",
    "\n",
    "# Definimos los hiperparámetros para buscar\n",
    "hyperparams = {\n",
    "    \"penalty\": [\"l1\", \"l2\", \"elasticnet\", None],\n",
    "    \"tol\": [0.0001, 0.001, 0.1],\n",
    "    \"fit_intercept\": [True, False],\n",
    "    \"C\": [0.1, 1, 10]  # Regularización\n",
    "}\n",
    "\n",
    "# Crear modelo y GridSearch\n",
    "model = LogisticRegression(random_state=42, solver='saga', max_iter=1000)  # 'saga' soporta l1, l2 y elasticnet\n",
    "grid = GridSearchCV(model, hyperparams, scoring=\"accuracy\", cv=5)\n",
    "\n",
    "# Entrenar GridSearch\n",
    "print(\"\\nEjecutando GridSearchCV...\")\n",
    "grid.fit(TRAIN_DATASETS[best_dataset_index], y_train)\n",
    "\n",
    "# Mostrar mejor modelo\n",
    "print(\"\\nMejor modelo encontrado por GridSearch:\")\n",
    "print(grid.best_estimator_)\n"
   ]
  },
  {
   "cell_type": "code",
   "execution_count": null,
   "metadata": {},
   "outputs": [
    {
     "name": "stdout",
     "output_type": "stream",
     "text": [
      "\n",
      "Resultados finales del mejor modelo:\n",
      "Accuracy final en TRAIN: 0.9008\n",
      "Accuracy final en TEST: 0.9046\n"
     ]
    }
   ],
   "source": [
    "\n",
    "# 5. Evaluación final del mejor modelo\n",
    "\n",
    "final_model = grid.best_estimator_\n",
    "\n",
    "# Predicciones finales\n",
    "y_pred_train_final = final_model.predict(TRAIN_DATASETS[best_dataset_index])\n",
    "y_pred_test_final = final_model.predict(TEST_DATASETS[best_dataset_index])\n",
    "\n",
    "# Accuracy final\n",
    "final_train_accuracy = accuracy_score(y_train, y_pred_train_final)\n",
    "final_test_accuracy = accuracy_score(y_test, y_pred_test_final)\n",
    "\n",
    "print(\"\\nResultados finales del mejor modelo:\")\n",
    "print(f\"Accuracy final en TRAIN: {final_train_accuracy:.4f}\")\n",
    "print(f\"Accuracy final en TEST: {final_test_accuracy:.4f}\")\n"
   ]
  }
 ],
 "metadata": {
  "kernelspec": {
   "display_name": "Python 3",
   "language": "python",
   "name": "python3"
  },
  "language_info": {
   "codemirror_mode": {
    "name": "ipython",
    "version": 3
   },
   "file_extension": ".py",
   "mimetype": "text/x-python",
   "name": "python",
   "nbconvert_exporter": "python",
   "pygments_lexer": "ipython3",
   "version": "3.10.12"
  }
 },
 "nbformat": 4,
 "nbformat_minor": 2
}
